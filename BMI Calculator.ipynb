{
 "cells": [
  {
   "cell_type": "code",
   "execution_count": 1,
   "id": "9883b2c9",
   "metadata": {},
   "outputs": [
    {
     "name": "stdout",
     "output_type": "stream",
     "text": [
      "Enter your name: FZ\n",
      "Enter your weight in pounds: 120\n",
      "Enter your height in inches: 62\n",
      "21.94588969823101\n",
      "FZ, you are normal weight.\n"
     ]
    }
   ],
   "source": [
    "# BMI = (weight in pounds x 703) / (height in inches x height in inches)\n",
    "\n",
    "name = input(\"Enter your name: \")\n",
    "\n",
    "weight = int(input(\"Enter your weight in pounds: \"))\n",
    "\n",
    "height = int(input(\"Enter your height in inches: \"))\n",
    "\n",
    "BMI = (weight * 703) / (height * height)\n",
    "\n",
    "print(BMI)\n",
    "\n",
    "if BMI>0:\n",
    "    if (BMI<18.5):\n",
    "        print(name + \", you are underweight.\")\n",
    "    elif (BMI<=24.9):\n",
    "        print(name + \", you are normal weight.\")\n",
    "    elif (BMI<=29.9):\n",
    "        print(name + \", you are overweight.\")\n",
    "    elif (BMI<=34.9):\n",
    "        print(name + \", you are obese.\")\n",
    "    elif (BMI<=39.9):\n",
    "        print(name + \", you are severely obese.\")\n",
    "    else: \n",
    "        print(name + \", you are morbidly obese.\")    \n",
    "else:\n",
    "    print(\"Enter valid input\")"
   ]
  },
  {
   "cell_type": "code",
   "execution_count": null,
   "id": "627b4cd9",
   "metadata": {},
   "outputs": [],
   "source": []
  },
  {
   "cell_type": "code",
   "execution_count": null,
   "id": "d9e3cde6",
   "metadata": {},
   "outputs": [],
   "source": []
  },
  {
   "cell_type": "code",
   "execution_count": null,
   "id": "5cb5968c",
   "metadata": {},
   "outputs": [],
   "source": [
    "Under 18.5   Underweight     Minimal\n",
    "18.5-24.9    Normal Weight   Minimal\n",
    "25-29.9      Overweight      Increased\n",
    "30-34.9      Obese           High\n",
    "35-39.9      Severely Obese  Very High\n",
    "40 and Over  Morbidly Obese  Extremely High"
   ]
  },
  {
   "cell_type": "code",
   "execution_count": null,
   "id": "754649a2",
   "metadata": {},
   "outputs": [],
   "source": []
  },
  {
   "cell_type": "code",
   "execution_count": null,
   "id": "bcc2e848",
   "metadata": {},
   "outputs": [],
   "source": []
  },
  {
   "cell_type": "code",
   "execution_count": null,
   "id": "79ea4a8d",
   "metadata": {},
   "outputs": [],
   "source": []
  }
 ],
 "metadata": {
  "kernelspec": {
   "display_name": "Python 3 (ipykernel)",
   "language": "python",
   "name": "python3"
  },
  "language_info": {
   "codemirror_mode": {
    "name": "ipython",
    "version": 3
   },
   "file_extension": ".py",
   "mimetype": "text/x-python",
   "name": "python",
   "nbconvert_exporter": "python",
   "pygments_lexer": "ipython3",
   "version": "3.9.13"
  }
 },
 "nbformat": 4,
 "nbformat_minor": 5
}
