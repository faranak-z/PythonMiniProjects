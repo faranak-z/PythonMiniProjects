{
 "cells": [
  {
   "cell_type": "code",
   "execution_count": 3,
   "id": "1326e8da",
   "metadata": {},
   "outputs": [
    {
     "name": "stdout",
     "output_type": "stream",
     "text": [
      "Enter a credit card number: 1234 5678 9012 3456\n",
      "INVALID\n"
     ]
    }
   ],
   "source": [
    "# Declare variables \n",
    "sum_odd_digits = 0 \n",
    "sum_even_digits = 0 \n",
    "total = 0 \n",
    "\n",
    "\n",
    "# Accept user input \n",
    "card_number = input(\"Enter a credit card number: \")\n",
    "\n",
    "# Remove any '-' or ' '\n",
    "card_number = card_number.replace(\"-\", \"\")\n",
    "card_number = card_number.replace(\" \", \"\")\n",
    "card_number = card_number[::-1]\n",
    "\n",
    "# Add all digits in the odd places from right to left \n",
    "for x in card_number[::2]:\n",
    "    sum_odd_digits = sum_odd_digits + int(x) \n",
    "\n",
    "# Double every second digit from right to left (if result is a two-digit #, add the two-digit # together to get a single digit)\n",
    "for x in card_number[1::2]: \n",
    "    x = int(x) * 2 \n",
    "    if x >= 10:\n",
    "        sum_even_digits += (1 + (x % 10))\n",
    "    else: \n",
    "        sum_even_digits += x \n",
    "\n",
    "# Sum up the totals of steps 2 & 3 \n",
    "total = sum_odd_digits + sum_even_digits \n",
    "\n",
    "# If sum is divisible by 10, the credit card # is valid \n",
    "if total % 10 == 0:\n",
    "    print(\"VALID\")\n",
    "else: \n",
    "    print(\"INVALID\")"
   ]
  },
  {
   "cell_type": "code",
   "execution_count": null,
   "id": "442bc030",
   "metadata": {},
   "outputs": [],
   "source": []
  },
  {
   "cell_type": "code",
   "execution_count": null,
   "id": "3428c099",
   "metadata": {},
   "outputs": [],
   "source": []
  },
  {
   "cell_type": "code",
   "execution_count": null,
   "id": "1a210ea7",
   "metadata": {},
   "outputs": [],
   "source": []
  }
 ],
 "metadata": {
  "kernelspec": {
   "display_name": "Python 3 (ipykernel)",
   "language": "python",
   "name": "python3"
  },
  "language_info": {
   "codemirror_mode": {
    "name": "ipython",
    "version": 3
   },
   "file_extension": ".py",
   "mimetype": "text/x-python",
   "name": "python",
   "nbconvert_exporter": "python",
   "pygments_lexer": "ipython3",
   "version": "3.9.13"
  }
 },
 "nbformat": 4,
 "nbformat_minor": 5
}
