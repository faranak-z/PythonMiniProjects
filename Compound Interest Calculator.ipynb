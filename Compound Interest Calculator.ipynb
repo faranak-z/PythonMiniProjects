{
 "cells": [
  {
   "cell_type": "code",
   "execution_count": 1,
   "id": "9a47484e",
   "metadata": {},
   "outputs": [
    {
     "name": "stdout",
     "output_type": "stream",
     "text": [
      "Enter Initial Investment Amount: 15000\n",
      "Enter Anticipated Interest Rate (%): 2.5\n",
      "Enter Compounding Period (d for daily, m for monthly, a for annually: m\n",
      "Enter Number of Years: 10\n",
      "Total Amount: 19255.37313267204\n",
      "Initial Investment: 15000\n",
      "Compound Interest: 4255.373132672041\n"
     ]
    }
   ],
   "source": [
    "# Formula: A = P(1 + r/n)^nt\n",
    "\n",
    "def compound_interest(P, r, n, t):\n",
    "    Amount = P * pow((1 + r/n), n*t)\n",
    "    Interest = Amount - P \n",
    "    print(\"Total Amount:\", Amount)\n",
    "    print(\"Initial Investment:\", P)\n",
    "    print(\"Compound Interest:\", Interest)\n",
    "    \n",
    "def compound_interest_prompts():\n",
    "    principal = int(input('Enter Initial Investment Amount: '))\n",
    "    rate = float(input('Enter Anticipated Interest Rate (%): '))/100\n",
    "    n_input = input('Enter Compounding Period (d for daily, m for monthly, a for annually: ')\n",
    "    if n_input == 'a':\n",
    "        frequency = 1\n",
    "    elif n_input == 'm':\n",
    "        frequency = 12\n",
    "    elif n_input == 'd':\n",
    "        frequency = 365\n",
    "    time = float(input('Enter Number of Years: ')) \n",
    "\n",
    "    compound_interest(principal, rate, frequency, time)\n",
    "    \n",
    "compound_interest_prompts()"
   ]
  },
  {
   "cell_type": "code",
   "execution_count": null,
   "id": "3d99c5f6",
   "metadata": {},
   "outputs": [],
   "source": []
  },
  {
   "cell_type": "code",
   "execution_count": null,
   "id": "cc4da70c",
   "metadata": {},
   "outputs": [],
   "source": []
  },
  {
   "cell_type": "code",
   "execution_count": null,
   "id": "b606b447",
   "metadata": {},
   "outputs": [],
   "source": [
    "# Formula: A = P(1 + r/n)^nt\n",
    "\n",
    "# A = final amount (principal + interest) \n",
    "# P = initial principal balance \n",
    "# r = interest rate \n",
    "# n = number of times interest applied per time period \n",
    "# t = number of time periods elapsed"
   ]
  },
  {
   "cell_type": "code",
   "execution_count": null,
   "id": "6371311c",
   "metadata": {},
   "outputs": [],
   "source": []
  },
  {
   "cell_type": "code",
   "execution_count": null,
   "id": "6d7c0d0f",
   "metadata": {},
   "outputs": [],
   "source": []
  }
 ],
 "metadata": {
  "kernelspec": {
   "display_name": "Python 3 (ipykernel)",
   "language": "python",
   "name": "python3"
  },
  "language_info": {
   "codemirror_mode": {
    "name": "ipython",
    "version": 3
   },
   "file_extension": ".py",
   "mimetype": "text/x-python",
   "name": "python",
   "nbconvert_exporter": "python",
   "pygments_lexer": "ipython3",
   "version": "3.9.13"
  }
 },
 "nbformat": 4,
 "nbformat_minor": 5
}
